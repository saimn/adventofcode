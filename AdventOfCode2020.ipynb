{
 "cells": [
  {
   "cell_type": "code",
   "execution_count": 1,
   "metadata": {},
   "outputs": [],
   "source": [
    "import functools\n",
    "import itertools\n",
    "import operator\n",
    "import math"
   ]
  },
  {
   "cell_type": "markdown",
   "metadata": {},
   "source": [
    "## Day 1"
   ]
  },
  {
   "cell_type": "code",
   "execution_count": 2,
   "metadata": {},
   "outputs": [],
   "source": [
    "numbers = [int(x) for x in open('day1.txt').read().splitlines()]"
   ]
  },
  {
   "cell_type": "code",
   "execution_count": 3,
   "metadata": {},
   "outputs": [
    {
     "data": {
      "text/plain": [
       "252724"
      ]
     },
     "execution_count": 3,
     "metadata": {},
     "output_type": "execute_result"
    }
   ],
   "source": [
    "x, y = next((x, y) for x, y in itertools.combinations(numbers, 2) if x + y == 2020)\n",
    "x * y"
   ]
  },
  {
   "cell_type": "code",
   "execution_count": 4,
   "metadata": {},
   "outputs": [
    {
     "data": {
      "text/plain": [
       "276912720"
      ]
     },
     "execution_count": 4,
     "metadata": {},
     "output_type": "execute_result"
    }
   ],
   "source": [
    "x, y, z = next((x, y, z) for x, y, z in itertools.combinations(numbers, 3) if x + y + z == 2020)\n",
    "x * y * z"
   ]
  },
  {
   "cell_type": "markdown",
   "metadata": {},
   "source": [
    "## Day 2"
   ]
  },
  {
   "cell_type": "code",
   "execution_count": 27,
   "metadata": {},
   "outputs": [
    {
     "data": {
      "text/plain": [
       "458"
      ]
     },
     "execution_count": 27,
     "metadata": {},
     "output_type": "execute_result"
    }
   ],
   "source": [
    "valid = 0\n",
    "with open('day2.txt') as f:\n",
    "    for line in f:\n",
    "        minmax, letter, passwd = line.split()\n",
    "        min_, max_ = map(int, minmax.split('-'))\n",
    "        res = min_ <= passwd.count(letter[0]) <= max_\n",
    "        if res:\n",
    "            valid += 1\n",
    "        #print(f'{minmax:5s} {letter} {passwd:20} → {res}')\n",
    "valid"
   ]
  },
  {
   "cell_type": "code",
   "execution_count": 33,
   "metadata": {},
   "outputs": [
    {
     "data": {
      "text/plain": [
       "342"
      ]
     },
     "execution_count": 33,
     "metadata": {},
     "output_type": "execute_result"
    }
   ],
   "source": [
    "valid = 0\n",
    "with open('day2.txt') as f:\n",
    "    for line in f:\n",
    "        pos, letter, passwd = line.split()\n",
    "        pos1, pos2 = map(int, pos.split('-'))\n",
    "        if passwd[pos1-1] == letter[0] or passwd[pos2-1] == letter[0]:\n",
    "            if not (passwd[pos1-1] == letter[0] and passwd[pos2-1] == letter[0]):\n",
    "                valid += 1\n",
    "valid"
   ]
  },
  {
   "cell_type": "markdown",
   "metadata": {},
   "source": [
    "## Day 3"
   ]
  },
  {
   "cell_type": "code",
   "execution_count": 2,
   "metadata": {},
   "outputs": [],
   "source": [
    "gridin = open('day3.txt').read().splitlines()\n",
    "grid = [list(x) for x in gridin]\n",
    "grid_height = len(grid)\n",
    "grid_width = len(grid[0])\n",
    "#print('\\n'.join(gridin))"
   ]
  },
  {
   "cell_type": "code",
   "execution_count": 3,
   "metadata": {},
   "outputs": [],
   "source": [
    "x, y = 0, 0\n",
    "trees = 0\n",
    "\n",
    "while True:\n",
    "    x += 1\n",
    "    y += 3\n",
    "    \n",
    "    if x >= grid_height:\n",
    "        break\n",
    "        \n",
    "    if y >= grid_width:\n",
    "        for i in range(grid_height):\n",
    "            grid[i] += list(gridin[i])\n",
    "        \n",
    "    if grid[x][y] == '#':\n",
    "        trees += 1\n",
    "        grid[x][y] = 'X'\n",
    "    else:\n",
    "        grid[x][y] = 'O'"
   ]
  },
  {
   "cell_type": "code",
   "execution_count": 5,
   "metadata": {},
   "outputs": [
    {
     "data": {
      "text/plain": [
       "(193, 323, 969)"
      ]
     },
     "execution_count": 5,
     "metadata": {},
     "output_type": "execute_result"
    }
   ],
   "source": [
    "trees, x, y"
   ]
  },
  {
   "cell_type": "code",
   "execution_count": 78,
   "metadata": {},
   "outputs": [],
   "source": [
    "#print('\\n'.join(''.join(x) for x in grid))"
   ]
  },
  {
   "cell_type": "code",
   "execution_count": 8,
   "metadata": {},
   "outputs": [
    {
     "name": "stdout",
     "output_type": "stream",
     "text": [
      "1, 1 = 57\n",
      "3, 1 = 193\n",
      "5, 1 = 64\n",
      "7, 1 = 55\n",
      "1, 2 = 35\n"
     ]
    }
   ],
   "source": [
    "res = {}\n",
    "for slopey, slopex in ((1, 1),\n",
    "                       (3, 1),\n",
    "                       (5, 1),\n",
    "                       (7, 1),\n",
    "                       (1, 2)):\n",
    "    grid = [list(x) for x in gridin]\n",
    "    x, y = 0, 0\n",
    "    trees = 0\n",
    "    while True:\n",
    "        x += slopex\n",
    "        y += slopey\n",
    "\n",
    "        if x >= grid_height:\n",
    "            break\n",
    "\n",
    "        if y >= grid_width:\n",
    "            for i in range(grid_height):\n",
    "                grid[i] += list(gridin[i])\n",
    "\n",
    "        if grid[x][y] == '#':\n",
    "            trees += 1\n",
    "            \n",
    "    print(f'{slopey}, {slopex} = {trees}')\n",
    "    res[slopey, slopex] = trees"
   ]
  },
  {
   "cell_type": "code",
   "execution_count": 11,
   "metadata": {},
   "outputs": [
    {
     "data": {
      "text/plain": [
       "1355323200"
      ]
     },
     "execution_count": 11,
     "metadata": {},
     "output_type": "execute_result"
    }
   ],
   "source": [
    "functools.reduce(operator.mul, res.values())"
   ]
  },
  {
   "cell_type": "markdown",
   "metadata": {},
   "source": [
    "## Day 4"
   ]
  },
  {
   "cell_type": "code",
   "execution_count": 11,
   "metadata": {},
   "outputs": [],
   "source": [
    "data = open('day4.txt').read().splitlines()\n",
    "#data"
   ]
  },
  {
   "cell_type": "code",
   "execution_count": 45,
   "metadata": {},
   "outputs": [
    {
     "data": {
      "text/plain": [
       "292"
      ]
     },
     "execution_count": 45,
     "metadata": {},
     "output_type": "execute_result"
    }
   ],
   "source": [
    "passports = [[]]\n",
    "for line in data:\n",
    "    if line == '':\n",
    "        passports.append([])\n",
    "    else:\n",
    "        passports[-1].append(line)\n",
    "passports = [' '.join(p) for p in passports]\n",
    "len(passports)"
   ]
  },
  {
   "cell_type": "code",
   "execution_count": 47,
   "metadata": {},
   "outputs": [
    {
     "data": {
      "text/plain": [
       "245"
      ]
     },
     "execution_count": 47,
     "metadata": {},
     "output_type": "execute_result"
    }
   ],
   "source": [
    "valid = 0\n",
    "all_keys = {'ecl', 'iyr', 'pid', 'eyr', 'hcl', 'byr', 'cid', 'hgt'}\n",
    "\n",
    "for passport in passports:\n",
    "    keys = {f.split(':')[0] for f in passport.split(' ')}\n",
    "    missing = all_keys - keys\n",
    "    if missing.issubset({'cid'}):\n",
    "        valid += 1\n",
    "\n",
    "valid"
   ]
  },
  {
   "cell_type": "code",
   "execution_count": 68,
   "metadata": {},
   "outputs": [
    {
     "data": {
      "text/plain": [
       "133"
      ]
     },
     "execution_count": 68,
     "metadata": {},
     "output_type": "execute_result"
    }
   ],
   "source": [
    "valid = 0\n",
    "all_keys = {'ecl', 'iyr', 'pid', 'eyr', 'hcl', 'byr', 'cid', 'hgt'}\n",
    "\n",
    "for passport in passports:\n",
    "    fields = dict(f.split(':') for f in passport.split(' '))\n",
    "    missing = all_keys - set(fields)\n",
    "    try:\n",
    "        height, unitheight = fields['hgt'][:-2], fields['hgt'][-2:]\n",
    "    except:\n",
    "        continue\n",
    "    if (\n",
    "            missing.issubset({'cid'}) and\n",
    "            (1920 <= int(fields['byr']) <= 2002) and\n",
    "            (2010 <= int(fields['iyr']) <= 2020) and\n",
    "            (2020 <= int(fields['eyr']) <= 2030) and\n",
    "            ((unitheight == 'cm' and 150 <= int(height) <= 193) or\n",
    "             (unitheight == 'in' and 59 <= int(height) <= 76)) and\n",
    "            (fields['hcl'][0] == '#' and all(str.isdigit(x) or x in 'abcdef' for x in fields['hcl'][1:])) and\n",
    "            (fields['ecl'] in {'amb', 'blu', 'brn', 'gry', 'grn', 'hzl', 'oth'}) and\n",
    "            len(fields['pid']) == 9 and all(str.isdigit(x) for x in fields['pid'])\n",
    "       ):\n",
    "        valid += 1\n",
    "\n",
    "valid"
   ]
  },
  {
   "cell_type": "markdown",
   "metadata": {},
   "source": [
    "## Day 8"
   ]
  },
  {
   "cell_type": "code",
   "execution_count": 6,
   "metadata": {},
   "outputs": [],
   "source": [
    "ops = \"\"\"\\\n",
    "nop +0\n",
    "acc +1\n",
    "jmp +4\n",
    "acc +3\n",
    "jmp -3\n",
    "acc -99\n",
    "acc +1\n",
    "jmp -4\n",
    "acc +6\n",
    "\"\"\".splitlines()"
   ]
  },
  {
   "cell_type": "code",
   "execution_count": 43,
   "metadata": {},
   "outputs": [],
   "source": [
    "def parse(ops):\n",
    "    accumulator = 0\n",
    "    parsed_lines = set()\n",
    "    line_idx = 0\n",
    "\n",
    "    while True:\n",
    "        op, action = ops[line_idx].split()\n",
    "        if op == 'nop':\n",
    "            line_idx += 1\n",
    "        elif op == 'acc':\n",
    "            line_idx += 1\n",
    "            accumulator += int(action)\n",
    "        elif op == 'jmp':\n",
    "            line_idx += int(action)\n",
    "        else:\n",
    "            raise Exception\n",
    "\n",
    "        if line_idx in parsed_lines:\n",
    "            return accumulator\n",
    "\n",
    "        parsed_lines.add(line_idx)\n",
    "        #print(op, action, line_idx, accumulator)\n",
    "        if line_idx >= len(ops):\n",
    "            raise"
   ]
  },
  {
   "cell_type": "code",
   "execution_count": 44,
   "metadata": {},
   "outputs": [],
   "source": [
    "ops = open('day8.txt').read().splitlines()"
   ]
  },
  {
   "cell_type": "code",
   "execution_count": 45,
   "metadata": {},
   "outputs": [
    {
     "data": {
      "text/plain": [
       "1337"
      ]
     },
     "execution_count": 45,
     "metadata": {},
     "output_type": "execute_result"
    }
   ],
   "source": [
    "parse(ops)"
   ]
  },
  {
   "cell_type": "code",
   "execution_count": 46,
   "metadata": {},
   "outputs": [],
   "source": [
    "def parse(ops):\n",
    "    accumulator = 0\n",
    "    parsed_lines = set()\n",
    "    line_idx = 0\n",
    "\n",
    "    while True:\n",
    "        op, action = ops[line_idx].split()\n",
    "        if op == 'nop':\n",
    "            line_idx += 1\n",
    "        elif op == 'acc':\n",
    "            line_idx += 1\n",
    "            accumulator += int(action)\n",
    "        elif op == 'jmp':\n",
    "            line_idx += int(action)\n",
    "        else:\n",
    "            raise Exception\n",
    "\n",
    "        if line_idx in parsed_lines:\n",
    "            raise Exception\n",
    "\n",
    "        parsed_lines.add(line_idx)\n",
    "        #print(op, action, line_idx, accumulator)\n",
    "        if line_idx >= len(ops):\n",
    "            print('success!')\n",
    "            return accumulator"
   ]
  },
  {
   "cell_type": "code",
   "execution_count": 49,
   "metadata": {},
   "outputs": [
    {
     "name": "stdout",
     "output_type": "stream",
     "text": [
      ".......................................................................................................................................................................................................................................................................................success!\n",
      "1358\n"
     ]
    }
   ],
   "source": [
    "import copy\n",
    "\n",
    "for i in range(len(ops)):\n",
    "    opstmp = copy.copy(ops)\n",
    "    \n",
    "    if opstmp[i].startswith('nop'):\n",
    "        opstmp[i] = opstmp[i].replace('nop', 'jmp')\n",
    "    elif opstmp[i].startswith('jmp'):\n",
    "        opstmp[i] = opstmp[i].replace('jmp', 'nop')\n",
    "        \n",
    "    try:\n",
    "        res = parse(opstmp)\n",
    "    except:\n",
    "        print('.', end='')\n",
    "        continue\n",
    "    else:\n",
    "        print(res)\n",
    "        break"
   ]
  },
  {
   "cell_type": "markdown",
   "metadata": {},
   "source": [
    "## Day 17\n",
    "\n",
    "Start : 5\n",
    "Iter 1: 11\n",
    "Iter 2: 21\n",
    "Iter 3: 38"
   ]
  },
  {
   "cell_type": "code",
   "execution_count": 4,
   "metadata": {},
   "outputs": [],
   "source": [
    "start = \"\"\"\n",
    ".#.\n",
    "..#\n",
    "###\n",
    "\"\"\""
   ]
  },
  {
   "cell_type": "code",
   "execution_count": 155,
   "metadata": {},
   "outputs": [],
   "source": [
    "start = open('day17.txt').read()"
   ]
  },
  {
   "cell_type": "code",
   "execution_count": 156,
   "metadata": {},
   "outputs": [],
   "source": [
    "def print_grid(grid):\n",
    "    for bloc in np.where(grid, '#', '.'):\n",
    "        for line in bloc:\n",
    "            print(''.join(line))\n",
    "        print()"
   ]
  },
  {
   "cell_type": "code",
   "execution_count": 158,
   "metadata": {},
   "outputs": [
    {
     "name": "stdout",
     "output_type": "stream",
     "text": [
      "Cycle 1\n",
      "76 active cells\n",
      "\n",
      "Cycle 2\n",
      "85 active cells\n",
      "\n",
      "Cycle 3\n",
      "176 active cells\n",
      "\n",
      "Cycle 4\n",
      "161 active cells\n",
      "\n",
      "Cycle 5\n",
      "345 active cells\n",
      "\n",
      "Cycle 6\n",
      "289 active cells\n",
      "\n",
      "CPU times: user 6.61 ms, sys: 186 µs, total: 6.79 ms\n",
      "Wall time: 5.59 ms\n"
     ]
    }
   ],
   "source": [
    "%%time\n",
    "import numpy as np\n",
    "from scipy.ndimage import convolve\n",
    "\n",
    "kernel = np.ones((3, 3, 3), dtype=int)\n",
    "kernel[1, 1, 1] = 0\n",
    "\n",
    "grid = np.array([list(x) for x in start.strip('\\n').split('\\n')])\n",
    "grid = np.where(grid == '#', 1, 0)\n",
    "grid = np.expand_dims(grid, 0)\n",
    "grid = np.pad(grid, 1, constant_values=0)\n",
    "#print_grid(grid)\n",
    "\n",
    "for i in range(6):\n",
    "    print(f'Cycle {i+1}')\n",
    "    count = convolve(grid, kernel, mode='constant', cval=0)\n",
    "\n",
    "    grid = (\n",
    "        ((grid == 1) & ((count == 2) | (count == 3))) | # active and exactly 2 or 3 of its neighbors are also active\n",
    "        ((grid == 0) & (count == 3)) # inactive but exactly 3 of its neighbors are active\n",
    "    ).astype(int)\n",
    "\n",
    "    #if i in (0, 1):\n",
    "    #    print_grid(grid)\n",
    "        \n",
    "    axis_to_expand = []\n",
    "    if np.any(grid[[1,-1], ...]):\n",
    "        axis_to_expand.append(0)\n",
    "    if np.any(grid[:, [1,-1], :]):\n",
    "        axis_to_expand.append(1)\n",
    "    if np.any(grid[..., [1,-1]]):\n",
    "        axis_to_expand.append(2)\n",
    "\n",
    "    #print(f'{axis_to_expand=}')\n",
    "    pad_width = np.zeros(3, dtype=int)\n",
    "    pad_width[axis_to_expand] = 1\n",
    "    pad_width = np.tile(pad_width, (2, 1)).T.tolist()\n",
    "\n",
    "    grid = np.pad(grid, pad_width, constant_values=0)\n",
    "    print(f'{grid.sum()} active cells\\n')"
   ]
  },
  {
   "cell_type": "code",
   "execution_count": 159,
   "metadata": {},
   "outputs": [],
   "source": [
    "start = \"\"\"\n",
    ".#.\n",
    "..#\n",
    "###\n",
    "\"\"\""
   ]
  },
  {
   "cell_type": "code",
   "execution_count": 170,
   "metadata": {},
   "outputs": [],
   "source": [
    "start = open('day17.txt').read()"
   ]
  },
  {
   "cell_type": "code",
   "execution_count": 171,
   "metadata": {},
   "outputs": [
    {
     "name": "stdout",
     "output_type": "stream",
     "text": [
      "Cycle 1\n",
      "214 active cells\n",
      "\n",
      "Cycle 2\n",
      "208 active cells\n",
      "\n",
      "Cycle 3\n",
      "1164 active cells\n",
      "\n",
      "Cycle 4\n",
      "544 active cells\n",
      "\n",
      "Cycle 5\n",
      "2628 active cells\n",
      "\n",
      "Cycle 6\n",
      "2084 active cells\n",
      "\n",
      "CPU times: user 39.9 ms, sys: 3.31 ms, total: 43.2 ms\n",
      "Wall time: 61.6 ms\n"
     ]
    }
   ],
   "source": [
    "%%time\n",
    "import numpy as np\n",
    "from scipy.ndimage import convolve\n",
    "\n",
    "kernel = np.ones((3, 3, 3, 3), dtype=int)\n",
    "kernel[1, 1, 1, 1] = 0\n",
    "\n",
    "grid = np.array([list(x) for x in start.strip('\\n').split('\\n')])\n",
    "grid = np.where(grid == '#', 1, 0)\n",
    "grid = np.expand_dims(grid, (0, 1))\n",
    "grid = np.pad(grid, 1, constant_values=0)\n",
    "#print_grid(grid)\n",
    "\n",
    "for i in range(6):\n",
    "    print(f'Cycle {i+1}')\n",
    "    count = convolve(grid, kernel, mode='constant', cval=0)\n",
    "\n",
    "    grid = (\n",
    "        ((grid == 1) & ((count == 2) | (count == 3))) | # active and exactly 2 or 3 of its neighbors are also active\n",
    "        ((grid == 0) & (count == 3)) # inactive but exactly 3 of its neighbors are active\n",
    "    ).astype(int)\n",
    "    \n",
    "    #if i in (0, 1):\n",
    "    #    print_grid(grid)\n",
    "\n",
    "    axis_to_expand = []\n",
    "    if np.any(grid[[1,-1], ...]):\n",
    "        axis_to_expand.append(0)\n",
    "    if np.any(grid[:, [1,-1], ...]):\n",
    "        axis_to_expand.append(1)\n",
    "    if np.any(grid[:, :, [1,-1], :]):\n",
    "        axis_to_expand.append(2)\n",
    "    if np.any(grid[..., [1,-1]]):\n",
    "        axis_to_expand.append(3)\n",
    "\n",
    "    #print(f'{axis_to_expand=}')\n",
    "    pad_width = np.zeros(4, dtype=int)\n",
    "    pad_width[axis_to_expand] = 1\n",
    "    pad_width = np.tile(pad_width, (2, 1)).T.tolist()\n",
    "\n",
    "    grid = np.pad(grid, pad_width, constant_values=0)\n",
    "    print(f'{grid.sum()} active cells\\n')\n"
   ]
  },
  {
   "cell_type": "code",
   "execution_count": null,
   "metadata": {},
   "outputs": [],
   "source": []
  }
 ],
 "metadata": {
  "kernelspec": {
   "display_name": "Python 3",
   "language": "python",
   "name": "python3"
  },
  "language_info": {
   "codemirror_mode": {
    "name": "ipython",
    "version": 3
   },
   "file_extension": ".py",
   "mimetype": "text/x-python",
   "name": "python",
   "nbconvert_exporter": "python",
   "pygments_lexer": "ipython3",
   "version": "3.8.1"
  }
 },
 "nbformat": 4,
 "nbformat_minor": 4
}
