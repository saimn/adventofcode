{
 "cells": [
  {
   "cell_type": "code",
   "execution_count": 1,
   "id": "c351f8ac-1dec-4141-9757-6b8a894b2004",
   "metadata": {
    "execution": {
     "iopub.execute_input": "2021-12-09T13:39:53.098110Z",
     "iopub.status.busy": "2021-12-09T13:39:53.097170Z",
     "iopub.status.idle": "2021-12-09T13:39:54.636072Z",
     "shell.execute_reply": "2021-12-09T13:39:54.634659Z",
     "shell.execute_reply.started": "2021-12-09T13:39:53.097878Z"
    },
    "tags": []
   },
   "outputs": [],
   "source": [
    "%matplotlib inline\n",
    "\n",
    "import collections\n",
    "import itertools\n",
    "from time import time\n",
    "\n",
    "import matplotlib.pyplot as plt\n",
    "import numpy as np\n",
    "import scipy.ndimage as ndi"
   ]
  },
  {
   "cell_type": "markdown",
   "id": "6b6a4015-eaa2-43bf-bb87-5394c66ee2aa",
   "metadata": {
    "jp-MarkdownHeadingCollapsed": true,
    "tags": []
   },
   "source": [
    "# Day 1"
   ]
  },
  {
   "cell_type": "code",
   "execution_count": 2,
   "id": "ea0248df-0c51-4aee-8d13-697ba7c7f4d4",
   "metadata": {
    "execution": {
     "iopub.execute_input": "2021-12-03T13:41:40.272347Z",
     "iopub.status.busy": "2021-12-03T13:41:40.271968Z",
     "iopub.status.idle": "2021-12-03T13:41:40.276752Z",
     "shell.execute_reply": "2021-12-03T13:41:40.275687Z",
     "shell.execute_reply.started": "2021-12-03T13:41:40.272305Z"
    },
    "tags": []
   },
   "outputs": [],
   "source": [
    "#measures = [199, 200, 208, 210, 200, 207, 240, 269, 260, 263]"
   ]
  },
  {
   "cell_type": "code",
   "execution_count": 3,
   "id": "aa4c508e-54c2-400b-900a-01fe7a9de8fa",
   "metadata": {
    "execution": {
     "iopub.execute_input": "2021-12-03T13:41:40.279605Z",
     "iopub.status.busy": "2021-12-03T13:41:40.279190Z",
     "iopub.status.idle": "2021-12-03T13:41:40.299263Z",
     "shell.execute_reply": "2021-12-03T13:41:40.298413Z",
     "shell.execute_reply.started": "2021-12-03T13:41:40.279571Z"
    },
    "tags": []
   },
   "outputs": [],
   "source": [
    "measures = np.genfromtxt('day1.txt', dtype=int)"
   ]
  },
  {
   "cell_type": "code",
   "execution_count": 4,
   "id": "23dddcb7-af55-4003-8237-745837add597",
   "metadata": {
    "execution": {
     "iopub.execute_input": "2021-12-03T13:41:40.301261Z",
     "iopub.status.busy": "2021-12-03T13:41:40.300726Z",
     "iopub.status.idle": "2021-12-03T13:41:40.310024Z",
     "shell.execute_reply": "2021-12-03T13:41:40.307985Z",
     "shell.execute_reply.started": "2021-12-03T13:41:40.301207Z"
    },
    "tags": []
   },
   "outputs": [
    {
     "data": {
      "text/plain": [
       "1342"
      ]
     },
     "execution_count": 4,
     "metadata": {},
     "output_type": "execute_result"
    }
   ],
   "source": [
    "np.sum(np.diff(measures) > 0)"
   ]
  },
  {
   "cell_type": "code",
   "execution_count": 5,
   "id": "9b15425a-a638-411e-9fab-de1a5ca0f5ca",
   "metadata": {
    "execution": {
     "iopub.execute_input": "2021-12-03T13:41:40.312112Z",
     "iopub.status.busy": "2021-12-03T13:41:40.311404Z",
     "iopub.status.idle": "2021-12-03T13:41:40.318594Z",
     "shell.execute_reply": "2021-12-03T13:41:40.317162Z",
     "shell.execute_reply.started": "2021-12-03T13:41:40.312074Z"
    },
    "tags": []
   },
   "outputs": [],
   "source": [
    "sum_measures = np.lib.stride_tricks.sliding_window_view(measures, 3).sum(axis=1)"
   ]
  },
  {
   "cell_type": "code",
   "execution_count": 6,
   "id": "24332158-e72a-45da-a400-333253482806",
   "metadata": {
    "execution": {
     "iopub.execute_input": "2021-12-03T13:41:40.321513Z",
     "iopub.status.busy": "2021-12-03T13:41:40.320717Z",
     "iopub.status.idle": "2021-12-03T13:41:40.331324Z",
     "shell.execute_reply": "2021-12-03T13:41:40.330200Z",
     "shell.execute_reply.started": "2021-12-03T13:41:40.321438Z"
    },
    "tags": []
   },
   "outputs": [
    {
     "data": {
      "text/plain": [
       "1378"
      ]
     },
     "execution_count": 6,
     "metadata": {},
     "output_type": "execute_result"
    }
   ],
   "source": [
    "np.sum(np.diff(sum_measures) > 0)"
   ]
  },
  {
   "cell_type": "markdown",
   "id": "78239863-d5fe-42ca-842b-a1c79666a4c0",
   "metadata": {
    "jp-MarkdownHeadingCollapsed": true,
    "tags": []
   },
   "source": [
    "# Day 2"
   ]
  },
  {
   "cell_type": "code",
   "execution_count": 7,
   "id": "292a5452-b58f-4c24-8cd3-5387a4be5644",
   "metadata": {
    "execution": {
     "iopub.execute_input": "2021-12-03T13:41:40.333952Z",
     "iopub.status.busy": "2021-12-03T13:41:40.333144Z",
     "iopub.status.idle": "2021-12-03T13:41:40.341550Z",
     "shell.execute_reply": "2021-12-03T13:41:40.339822Z",
     "shell.execute_reply.started": "2021-12-03T13:41:40.333902Z"
    },
    "tags": []
   },
   "outputs": [],
   "source": [
    "input = \"\"\"\\\n",
    "forward 5\n",
    "down 5\n",
    "forward 8\n",
    "up 3\n",
    "down 8\n",
    "forward 2\n",
    "\"\"\""
   ]
  },
  {
   "cell_type": "code",
   "execution_count": 8,
   "id": "9d78d646-b19c-449d-adbb-43f33d28b7d4",
   "metadata": {
    "execution": {
     "iopub.execute_input": "2021-12-03T13:41:40.345353Z",
     "iopub.status.busy": "2021-12-03T13:41:40.344339Z",
     "iopub.status.idle": "2021-12-03T13:41:40.352832Z",
     "shell.execute_reply": "2021-12-03T13:41:40.351281Z",
     "shell.execute_reply.started": "2021-12-03T13:41:40.345271Z"
    },
    "tags": []
   },
   "outputs": [],
   "source": [
    "input = open('day2.txt').read()"
   ]
  },
  {
   "cell_type": "code",
   "execution_count": 9,
   "id": "2c526cde-268d-4175-bc25-c52affd9fb79",
   "metadata": {
    "execution": {
     "iopub.execute_input": "2021-12-03T13:41:40.355758Z",
     "iopub.status.busy": "2021-12-03T13:41:40.355023Z",
     "iopub.status.idle": "2021-12-03T13:41:40.369548Z",
     "shell.execute_reply": "2021-12-03T13:41:40.368033Z",
     "shell.execute_reply.started": "2021-12-03T13:41:40.355698Z"
    },
    "tags": []
   },
   "outputs": [],
   "source": [
    "pos, depth = 0, 0\n",
    "for action, step in (line.split() for line in input.splitlines()):\n",
    "    if action == 'forward':\n",
    "        pos += int(step)\n",
    "    elif action == 'up':\n",
    "        depth -= int(step)\n",
    "    else:\n",
    "        depth += int(step)"
   ]
  },
  {
   "cell_type": "code",
   "execution_count": 10,
   "id": "e7d317a5-a214-4fcd-bf4a-105f42bb9f19",
   "metadata": {
    "execution": {
     "iopub.execute_input": "2021-12-03T13:41:40.371701Z",
     "iopub.status.busy": "2021-12-03T13:41:40.371217Z",
     "iopub.status.idle": "2021-12-03T13:41:40.380080Z",
     "shell.execute_reply": "2021-12-03T13:41:40.378947Z",
     "shell.execute_reply.started": "2021-12-03T13:41:40.371650Z"
    },
    "tags": []
   },
   "outputs": [
    {
     "data": {
      "text/plain": [
       "(1965, 1182, 2322630)"
      ]
     },
     "execution_count": 10,
     "metadata": {},
     "output_type": "execute_result"
    }
   ],
   "source": [
    "pos, depth, pos*depth"
   ]
  },
  {
   "cell_type": "code",
   "execution_count": 11,
   "id": "bebc665b-a197-4acd-9917-2f27c34aa187",
   "metadata": {
    "execution": {
     "iopub.execute_input": "2021-12-03T13:41:40.383042Z",
     "iopub.status.busy": "2021-12-03T13:41:40.382232Z",
     "iopub.status.idle": "2021-12-03T13:41:40.394227Z",
     "shell.execute_reply": "2021-12-03T13:41:40.393271Z",
     "shell.execute_reply.started": "2021-12-03T13:41:40.382977Z"
    },
    "tags": []
   },
   "outputs": [],
   "source": [
    "aim, depth, pos = 0, 0, 0\n",
    "\n",
    "for action, step in (line.split() for line in input.splitlines()):\n",
    "    if action == 'forward':\n",
    "        pos += int(step)\n",
    "        depth += aim * int(step)\n",
    "    elif action == 'up':\n",
    "        aim -= int(step)\n",
    "    else:\n",
    "        aim += int(step)"
   ]
  },
  {
   "cell_type": "code",
   "execution_count": 12,
   "id": "9346e56d-c6d3-47ce-8578-7ce6387b3d19",
   "metadata": {
    "execution": {
     "iopub.execute_input": "2021-12-03T13:41:40.397357Z",
     "iopub.status.busy": "2021-12-03T13:41:40.396694Z",
     "iopub.status.idle": "2021-12-03T13:41:40.403700Z",
     "shell.execute_reply": "2021-12-03T13:41:40.402744Z",
     "shell.execute_reply.started": "2021-12-03T13:41:40.397319Z"
    },
    "tags": []
   },
   "outputs": [
    {
     "data": {
      "text/plain": [
       "(1182, 1071386, 1965, 2105273490)"
      ]
     },
     "execution_count": 12,
     "metadata": {},
     "output_type": "execute_result"
    }
   ],
   "source": [
    "aim, depth, pos, pos*depth"
   ]
  },
  {
   "cell_type": "markdown",
   "id": "28944f8d-5378-41f3-9673-866c3dcdf884",
   "metadata": {
    "jp-MarkdownHeadingCollapsed": true,
    "tags": []
   },
   "source": [
    "# Day 3"
   ]
  },
  {
   "cell_type": "code",
   "execution_count": 2,
   "id": "ea49cdf0-252d-436c-ba16-9046f5237f05",
   "metadata": {
    "execution": {
     "iopub.execute_input": "2021-12-06T10:29:32.238882Z",
     "iopub.status.busy": "2021-12-06T10:29:32.238507Z",
     "iopub.status.idle": "2021-12-06T10:29:32.244067Z",
     "shell.execute_reply": "2021-12-06T10:29:32.242941Z",
     "shell.execute_reply.started": "2021-12-06T10:29:32.238847Z"
    },
    "tags": []
   },
   "outputs": [],
   "source": [
    "input = \"\"\"\\\n",
    "00100\n",
    "11110\n",
    "10110\n",
    "10111\n",
    "10101\n",
    "01111\n",
    "00111\n",
    "11100\n",
    "10000\n",
    "11001\n",
    "00010\n",
    "01010\n",
    "\"\"\""
   ]
  },
  {
   "cell_type": "code",
   "execution_count": 3,
   "id": "1a11d5f7-6483-4554-b7e8-88ace7cc3fe7",
   "metadata": {
    "execution": {
     "iopub.execute_input": "2021-12-06T10:29:32.488928Z",
     "iopub.status.busy": "2021-12-06T10:29:32.487926Z",
     "iopub.status.idle": "2021-12-06T10:29:32.505545Z",
     "shell.execute_reply": "2021-12-06T10:29:32.504171Z",
     "shell.execute_reply.started": "2021-12-06T10:29:32.488803Z"
    },
    "tags": []
   },
   "outputs": [],
   "source": [
    "input = open('day3.txt').read()"
   ]
  },
  {
   "cell_type": "code",
   "execution_count": 4,
   "id": "d24ef548-b5c6-4373-ad86-6a5c04cc00be",
   "metadata": {
    "execution": {
     "iopub.execute_input": "2021-12-06T10:29:32.863027Z",
     "iopub.status.busy": "2021-12-06T10:29:32.861964Z",
     "iopub.status.idle": "2021-12-06T10:29:32.885283Z",
     "shell.execute_reply": "2021-12-06T10:29:32.884094Z",
     "shell.execute_reply.started": "2021-12-06T10:29:32.862914Z"
    },
    "tags": []
   },
   "outputs": [],
   "source": [
    "arr = np.array([list(x) for x in input.splitlines()]).astype(int)"
   ]
  },
  {
   "cell_type": "code",
   "execution_count": 5,
   "id": "402e6645-3f43-4af2-8a30-64718406d80e",
   "metadata": {
    "execution": {
     "iopub.execute_input": "2021-12-06T10:29:33.313385Z",
     "iopub.status.busy": "2021-12-06T10:29:33.312753Z",
     "iopub.status.idle": "2021-12-06T10:29:33.322007Z",
     "shell.execute_reply": "2021-12-06T10:29:33.321159Z",
     "shell.execute_reply.started": "2021-12-06T10:29:33.313326Z"
    },
    "tags": []
   },
   "outputs": [
    {
     "data": {
      "text/plain": [
       "array([0, 1, 1, 1, 0, 1, 1, 1, 1, 1, 0, 0])"
      ]
     },
     "execution_count": 5,
     "metadata": {},
     "output_type": "execute_result"
    }
   ],
   "source": [
    "gamma_rate = (arr.sum(axis=0) > arr.shape[0] // 2)\n",
    "gamma_rate.astype(int)"
   ]
  },
  {
   "cell_type": "code",
   "execution_count": 6,
   "id": "bda25273-53b0-4d7a-87d4-1ae8262c0426",
   "metadata": {
    "execution": {
     "iopub.execute_input": "2021-12-06T10:29:33.597559Z",
     "iopub.status.busy": "2021-12-06T10:29:33.596964Z",
     "iopub.status.idle": "2021-12-06T10:29:33.605070Z",
     "shell.execute_reply": "2021-12-06T10:29:33.604213Z",
     "shell.execute_reply.started": "2021-12-06T10:29:33.597503Z"
    },
    "tags": []
   },
   "outputs": [
    {
     "data": {
      "text/plain": [
       "array([1, 0, 0, 0, 1, 0, 0, 0, 0, 0, 1, 1])"
      ]
     },
     "execution_count": 6,
     "metadata": {},
     "output_type": "execute_result"
    }
   ],
   "source": [
    "epsilon_rate = ~gamma_rate\n",
    "epsilon_rate.astype(int)"
   ]
  },
  {
   "cell_type": "code",
   "execution_count": 7,
   "id": "817c749a-8e35-4bec-a9f0-4400b3653f58",
   "metadata": {
    "execution": {
     "iopub.execute_input": "2021-12-06T10:29:34.292349Z",
     "iopub.status.busy": "2021-12-06T10:29:34.291290Z",
     "iopub.status.idle": "2021-12-06T10:29:34.302094Z",
     "shell.execute_reply": "2021-12-06T10:29:34.301073Z",
     "shell.execute_reply.started": "2021-12-06T10:29:34.292262Z"
    },
    "tags": []
   },
   "outputs": [
    {
     "data": {
      "text/plain": [
       "1916"
      ]
     },
     "execution_count": 7,
     "metadata": {},
     "output_type": "execute_result"
    }
   ],
   "source": [
    "gamma_rate = int('0b' + ''.join(gamma_rate.astype(int).astype('U1')), 2)\n",
    "gamma_rate"
   ]
  },
  {
   "cell_type": "code",
   "execution_count": 8,
   "id": "a2ae1a58-816e-414c-891d-f6c80784bb50",
   "metadata": {
    "execution": {
     "iopub.execute_input": "2021-12-06T10:29:34.636208Z",
     "iopub.status.busy": "2021-12-06T10:29:34.635301Z",
     "iopub.status.idle": "2021-12-06T10:29:34.651149Z",
     "shell.execute_reply": "2021-12-06T10:29:34.649630Z",
     "shell.execute_reply.started": "2021-12-06T10:29:34.636116Z"
    },
    "tags": []
   },
   "outputs": [
    {
     "data": {
      "text/plain": [
       "2179"
      ]
     },
     "execution_count": 8,
     "metadata": {},
     "output_type": "execute_result"
    }
   ],
   "source": [
    "epsilon_rate = int('0b' + ''.join(epsilon_rate.astype(int).astype('U1')), 2)\n",
    "epsilon_rate"
   ]
  },
  {
   "cell_type": "code",
   "execution_count": 9,
   "id": "88f35154-8898-4c90-adda-6cb2e2350c9b",
   "metadata": {
    "execution": {
     "iopub.execute_input": "2021-12-06T10:29:35.121280Z",
     "iopub.status.busy": "2021-12-06T10:29:35.119311Z",
     "iopub.status.idle": "2021-12-06T10:29:35.132924Z",
     "shell.execute_reply": "2021-12-06T10:29:35.131693Z",
     "shell.execute_reply.started": "2021-12-06T10:29:35.121187Z"
    },
    "tags": []
   },
   "outputs": [
    {
     "data": {
      "text/plain": [
       "4174964"
      ]
     },
     "execution_count": 9,
     "metadata": {},
     "output_type": "execute_result"
    }
   ],
   "source": [
    "gamma_rate * epsilon_rate"
   ]
  },
  {
   "cell_type": "markdown",
   "id": "e030d9ad-9956-485c-b3e6-0361ad71b5d1",
   "metadata": {
    "jp-MarkdownHeadingCollapsed": true,
    "tags": []
   },
   "source": [
    "# Day 4"
   ]
  },
  {
   "cell_type": "code",
   "execution_count": 2,
   "id": "aa2cf5bb-471f-42f2-909c-cc530624d0d2",
   "metadata": {},
   "outputs": [],
   "source": [
    "input = \"\"\"\\\n",
    "7,4,9,5,11,17,23,2,0,14,21,24,10,16,13,6,15,25,12,22,18,20,8,19,3,26,1\n",
    "\n",
    "22 13 17 11  0\n",
    " 8  2 23  4 24\n",
    "21  9 14 16  7\n",
    " 6 10  3 18  5\n",
    " 1 12 20 15 19\n",
    "\n",
    " 3 15  0  2 22\n",
    " 9 18 13 17  5\n",
    "19  8  7 25 23\n",
    "20 11 10 24  4\n",
    "14 21 16 12  6\n",
    "\n",
    "14 21 17 24  4\n",
    "10 16 15  9 19\n",
    "18  8 23 26 20\n",
    "22 11 13  6  5\n",
    " 2  0 12  3  7\n",
    "\"\"\""
   ]
  },
  {
   "cell_type": "code",
   "execution_count": 3,
   "id": "26d1571a-b401-481c-8147-f7fb0be5074b",
   "metadata": {},
   "outputs": [],
   "source": [
    "input = open('day4.txt').read()"
   ]
  },
  {
   "cell_type": "code",
   "execution_count": 4,
   "id": "5c49a865-c803-407c-b580-0fcfa14a7983",
   "metadata": {},
   "outputs": [],
   "source": [
    "lines = input.splitlines()\n",
    "\n",
    "numbers = [int(x) for x in lines[0].split(',')]\n",
    "lines = lines[1:]\n",
    "\n",
    "boards = []\n",
    "while len(lines) > 5:\n",
    "    lines = lines[1:]\n",
    "    board = lines[:5]\n",
    "    lines = lines[5:]\n",
    "    boards.append(np.genfromtxt(board, dtype=int))\n",
    "\n",
    "boards = np.stack(boards)"
   ]
  },
  {
   "cell_type": "code",
   "execution_count": 7,
   "id": "7681696f-12b7-48b1-a7fb-5dd943833343",
   "metadata": {},
   "outputs": [
    {
     "name": "stdout",
     "output_type": "stream",
     "text": [
      "CPU times: user 17.1 ms, sys: 0 ns, total: 17.1 ms\n",
      "Wall time: 16.6 ms\n"
     ]
    }
   ],
   "source": [
    "%%time\n",
    "found = np.zeros_like(boards, dtype=bool)\n",
    "winners = []\n",
    "\n",
    "for number in numbers:\n",
    "    found |= boards == number\n",
    "    full_row_col = np.concatenate([np.logical_and.reduce(found, axis=1),\n",
    "                                   np.logical_and.reduce(found, axis=2)], axis=1)\n",
    "    winner = np.logical_or.reduce(full_row_col, axis=1)\n",
    "    if np.any(winner):\n",
    "        for i in np.where(winner)[0]:\n",
    "            if i in winners:\n",
    "                continue\n",
    "            score = np.sum(boards[i] * ~found[i]) * number\n",
    "            #print(f'-> board {i} win: {score}')\n",
    "            winners.append(i)"
   ]
  },
  {
   "cell_type": "code",
   "execution_count": 8,
   "id": "6ebd7565-aefa-46d0-b67e-b1c281a02851",
   "metadata": {},
   "outputs": [
    {
     "data": {
      "text/plain": [
       "26936"
      ]
     },
     "execution_count": 8,
     "metadata": {},
     "output_type": "execute_result"
    }
   ],
   "source": [
    "score"
   ]
  },
  {
   "cell_type": "markdown",
   "id": "506ba5d9-856e-463b-b306-43ef973b129e",
   "metadata": {
    "jp-MarkdownHeadingCollapsed": true,
    "tags": []
   },
   "source": [
    "# Day 5"
   ]
  },
  {
   "cell_type": "code",
   "execution_count": 2,
   "id": "5565ab98-2966-4911-9b83-c06ff1802513",
   "metadata": {},
   "outputs": [],
   "source": [
    "input = \"\"\"\\\n",
    "0,9 -> 5,9\n",
    "8,0 -> 0,8\n",
    "9,4 -> 3,4\n",
    "2,2 -> 2,1\n",
    "7,0 -> 7,4\n",
    "6,4 -> 2,0\n",
    "0,9 -> 2,9\n",
    "3,4 -> 1,4\n",
    "0,0 -> 8,8\n",
    "5,5 -> 8,2\n",
    "\"\"\""
   ]
  },
  {
   "cell_type": "code",
   "execution_count": 3,
   "id": "7adb4b65-7e9a-4580-a6e0-3d3b9d780807",
   "metadata": {},
   "outputs": [],
   "source": [
    "input = open('day5.txt').read()"
   ]
  },
  {
   "cell_type": "code",
   "execution_count": 4,
   "id": "27e4daf1-17a2-4b98-95d9-083f437ebba0",
   "metadata": {},
   "outputs": [],
   "source": [
    "coords = np.genfromtxt(input.replace(' -> ', ',').splitlines(), delimiter=',', dtype=int)\n",
    "coords = coords.reshape(-1, 2, 2)"
   ]
  },
  {
   "cell_type": "code",
   "execution_count": 5,
   "id": "39d432a3-03e4-42d6-b0ce-6749a46b37d3",
   "metadata": {},
   "outputs": [
    {
     "name": "stdout",
     "output_type": "stream",
     "text": [
      "CPU times: user 29.7 ms, sys: 16.5 ms, total: 46.3 ms\n",
      "Wall time: 46.8 ms\n"
     ]
    }
   ],
   "source": [
    "%%time\n",
    "size = coords.max() + 1\n",
    "grid = np.zeros((size, size), dtype=int)\n",
    "\n",
    "for start, end in coords:\n",
    "    if start[0] == end[0]:\n",
    "        st = min(start[1], end[1])\n",
    "        en = max(start[1], end[1]) + 1\n",
    "        sl = np.s_[start[0], st:en]\n",
    "    elif start[1] == end[1]:\n",
    "        st = min(start[0], end[0])\n",
    "        en = max(start[0], end[0]) + 1\n",
    "        sl = np.s_[st:en, start[1]]\n",
    "    else:\n",
    "        continue\n",
    "    grid[sl] += 1"
   ]
  },
  {
   "cell_type": "code",
   "execution_count": 6,
   "id": "42e368ff-c804-4f20-b00d-f3b477b7bce0",
   "metadata": {},
   "outputs": [],
   "source": [
    "#grid.T"
   ]
  },
  {
   "cell_type": "code",
   "execution_count": 7,
   "id": "9f6f4830-2203-43da-bf50-e6f81d4b8779",
   "metadata": {},
   "outputs": [
    {
     "data": {
      "text/plain": [
       "6666"
      ]
     },
     "execution_count": 7,
     "metadata": {},
     "output_type": "execute_result"
    }
   ],
   "source": [
    "np.sum(grid > 1)"
   ]
  },
  {
   "cell_type": "code",
   "execution_count": 8,
   "id": "81af2370-ac3f-4563-89c5-db4649a697a0",
   "metadata": {},
   "outputs": [
    {
     "name": "stdout",
     "output_type": "stream",
     "text": [
      "CPU times: user 26.1 ms, sys: 3.4 ms, total: 29.5 ms\n",
      "Wall time: 27.6 ms\n"
     ]
    }
   ],
   "source": [
    "%%time\n",
    "size = coords.max() + 1\n",
    "grid = np.zeros((size, size), dtype=int)\n",
    "\n",
    "for start, end in coords:\n",
    "    minx = min(start[0], end[0])\n",
    "    maxx = max(start[0], end[0])\n",
    "    miny = min(start[1], end[1])\n",
    "    maxy = max(start[1], end[1])\n",
    "    \n",
    "    if start[0] == end[0]:\n",
    "        sl = np.s_[start[0], miny:maxy + 1]\n",
    "        grid[sl] += 1\n",
    "    elif start[1] == end[1]:\n",
    "        sl = np.s_[minx:maxx + 1, start[1]]\n",
    "        grid[sl] += 1\n",
    "    elif np.unique(np.abs(end - start)).size == 1:\n",
    "        indx = np.arange(minx, maxx+1)\n",
    "        indy = np.arange(miny, maxy+1)\n",
    "\n",
    "        if start[0] > end[0]:\n",
    "            indx = indx[::-1]\n",
    "        if start[1] > end[1]:\n",
    "            indy = indy[::-1]\n",
    "        grid[indx, indy] += 1"
   ]
  },
  {
   "cell_type": "code",
   "execution_count": 9,
   "id": "e21275bf-b24f-46f5-bb91-2d8b537a1fb9",
   "metadata": {},
   "outputs": [],
   "source": [
    "#grid.T"
   ]
  },
  {
   "cell_type": "code",
   "execution_count": 10,
   "id": "59107110-1c29-47c9-802c-ca5e1b6e1b69",
   "metadata": {},
   "outputs": [
    {
     "data": {
      "text/plain": [
       "19081"
      ]
     },
     "execution_count": 10,
     "metadata": {},
     "output_type": "execute_result"
    }
   ],
   "source": [
    "np.sum(grid > 1)"
   ]
  },
  {
   "cell_type": "code",
   "execution_count": null,
   "id": "905752f2-26af-44db-b476-c6e25a15e264",
   "metadata": {},
   "outputs": [],
   "source": [
    "#plt.figure(figsize=(8, 8))\n",
    "#plt.imshow(grid, cmap='Greys', vmax=2);"
   ]
  },
  {
   "cell_type": "markdown",
   "id": "1db09c9f-6881-4a2b-8098-332cf9d45e2f",
   "metadata": {
    "jp-MarkdownHeadingCollapsed": true,
    "tags": []
   },
   "source": [
    "# Day 6"
   ]
  },
  {
   "cell_type": "code",
   "execution_count": 40,
   "id": "19907a61-b5e5-4a65-85b0-3cc8f3692b35",
   "metadata": {
    "execution": {
     "iopub.execute_input": "2021-12-06T10:20:08.107150Z",
     "iopub.status.busy": "2021-12-06T10:20:08.105838Z",
     "iopub.status.idle": "2021-12-06T10:20:08.117360Z",
     "shell.execute_reply": "2021-12-06T10:20:08.116162Z",
     "shell.execute_reply.started": "2021-12-06T10:20:08.107006Z"
    },
    "tags": []
   },
   "outputs": [],
   "source": [
    "init_small = [3, 4, 3, 1, 2]"
   ]
  },
  {
   "cell_type": "code",
   "execution_count": 41,
   "id": "0e1e7593-6e1c-4065-9cff-326b1e9cad9c",
   "metadata": {
    "execution": {
     "iopub.execute_input": "2021-12-06T10:20:08.326753Z",
     "iopub.status.busy": "2021-12-06T10:20:08.326233Z",
     "iopub.status.idle": "2021-12-06T10:20:08.343872Z",
     "shell.execute_reply": "2021-12-06T10:20:08.342803Z",
     "shell.execute_reply.started": "2021-12-06T10:20:08.326703Z"
    },
    "tags": []
   },
   "outputs": [],
   "source": [
    "init_full = [\n",
    "    5, 1, 1, 4, 1, 1, 4, 1, 1, 1, 1, 1, 1, 1, 1, 1, 1, 1, 4, 2, 1, 1, 1, 3, 5,\n",
    "    1, 1, 1, 5, 4, 1, 1, 1, 2, 2, 1, 1, 1, 2, 1, 1, 1, 2, 5, 2, 1, 2, 2, 3, 1,\n",
    "    1, 1, 1, 1, 1, 1, 1, 5, 1, 1, 4, 1, 1, 1, 5, 4, 1, 1, 3, 3, 2, 1, 1, 1, 5,\n",
    "    1, 1, 4, 1, 1, 5, 1, 1, 5, 1, 2, 3, 1, 5, 1, 3, 2, 1, 3, 1, 1, 4, 1, 1, 1,\n",
    "    1, 2, 1, 2, 1, 1, 2, 1, 1, 1, 4, 4, 1, 5, 1, 1, 3, 5, 1, 1, 5, 1, 4, 1, 1,\n",
    "    1, 1, 1, 1, 1, 1, 1, 2, 2, 3, 1, 1, 1, 1, 1, 2, 1, 1, 1, 1, 1, 1, 2, 1, 1,\n",
    "    1, 5, 1, 1, 1, 1, 4, 1, 1, 1, 1, 4, 1, 1, 1, 1, 3, 1, 2, 1, 2, 1, 3, 1, 3,\n",
    "    4, 1, 1, 1, 1, 1, 1, 1, 5, 1, 1, 1, 1, 1, 1, 1, 1, 4, 1, 1, 2, 2, 1, 2, 4,\n",
    "    1, 1, 3, 1, 1, 1, 5, 1, 3, 1, 1, 1, 5, 5, 1, 1, 1, 1, 2, 3, 4, 1, 1, 1, 1,\n",
    "    1, 1, 1, 1, 1, 1, 1, 1, 5, 1, 4, 3, 1, 1, 1, 2, 1, 1, 1, 1, 1, 1, 1, 1, 2,\n",
    "    1, 1, 1, 1, 1, 1, 1, 1, 1, 1, 1, 3, 3, 1, 2, 2, 1, 4, 1, 5, 1, 5, 1, 1, 1,\n",
    "    1, 1, 1, 1, 2, 1, 1, 1, 1, 1, 1, 1, 1, 1, 1, 1, 5, 1, 1, 1, 4, 3, 1, 1, 4\n",
    "]"
   ]
  },
  {
   "cell_type": "code",
   "execution_count": 42,
   "id": "52597f58-b753-4d96-97a2-ec78dd44f66e",
   "metadata": {
    "execution": {
     "iopub.execute_input": "2021-12-06T10:20:08.510042Z",
     "iopub.status.busy": "2021-12-06T10:20:08.509589Z",
     "iopub.status.idle": "2021-12-06T10:20:08.519137Z",
     "shell.execute_reply": "2021-12-06T10:20:08.517656Z",
     "shell.execute_reply.started": "2021-12-06T10:20:08.509992Z"
    },
    "tags": []
   },
   "outputs": [],
   "source": [
    "def simulate(init, ndays=10, verbose=False):\n",
    "    fishes = np.array(init, dtype=int)\n",
    "    if verbose:\n",
    "        print(f'Initial state  : {fishes}')\n",
    "\n",
    "    for i in range(1, ndays+1):\n",
    "        new = fishes == 0\n",
    "        fishes[~new] -= 1\n",
    "        fishes[new] = 6\n",
    "        np.maximum(fishes, 0, out=fishes)\n",
    "        fishes = np.append(fishes, np.full(np.count_nonzero(new), 8, dtype=np.uint8))\n",
    "        if verbose:\n",
    "            print(f'After {i:2d} day(s): {fishes}, {fishes.size} fishes')\n",
    "    return fishes"
   ]
  },
  {
   "cell_type": "code",
   "execution_count": 43,
   "id": "4aef8447-1f5e-485b-b7d4-818d12df341c",
   "metadata": {
    "execution": {
     "iopub.execute_input": "2021-12-06T10:20:08.706223Z",
     "iopub.status.busy": "2021-12-06T10:20:08.705782Z",
     "iopub.status.idle": "2021-12-06T10:20:08.720296Z",
     "shell.execute_reply": "2021-12-06T10:20:08.717755Z",
     "shell.execute_reply.started": "2021-12-06T10:20:08.706181Z"
    },
    "tags": []
   },
   "outputs": [
    {
     "name": "stdout",
     "output_type": "stream",
     "text": [
      "Initial state  : [3 4 3 1 2]\n",
      "After  1 day(s): [2 3 2 0 1], 5 fishes\n",
      "After  2 day(s): [1 2 1 6 0 8], 6 fishes\n",
      "After  3 day(s): [0 1 0 5 6 7 8], 7 fishes\n",
      "After  4 day(s): [6 0 6 4 5 6 7 8 8], 9 fishes\n",
      "After  5 day(s): [5 6 5 3 4 5 6 7 7 8], 10 fishes\n",
      "After  6 day(s): [4 5 4 2 3 4 5 6 6 7], 10 fishes\n",
      "After  7 day(s): [3 4 3 1 2 3 4 5 5 6], 10 fishes\n",
      "After  8 day(s): [2 3 2 0 1 2 3 4 4 5], 10 fishes\n",
      "After  9 day(s): [1 2 1 6 0 1 2 3 3 4 8], 11 fishes\n",
      "After 10 day(s): [0 1 0 5 6 0 1 2 2 3 7 8], 12 fishes\n",
      "After 11 day(s): [6 0 6 4 5 6 0 1 1 2 6 7 8 8 8], 15 fishes\n",
      "After 12 day(s): [5 6 5 3 4 5 6 0 0 1 5 6 7 7 7 8 8], 17 fishes\n",
      "After 13 day(s): [4 5 4 2 3 4 5 6 6 0 4 5 6 6 6 7 7 8 8], 19 fishes\n",
      "After 14 day(s): [3 4 3 1 2 3 4 5 5 6 3 4 5 5 5 6 6 7 7 8], 20 fishes\n",
      "After 15 day(s): [2 3 2 0 1 2 3 4 4 5 2 3 4 4 4 5 5 6 6 7], 20 fishes\n",
      "After 16 day(s): [1 2 1 6 0 1 2 3 3 4 1 2 3 3 3 4 4 5 5 6 8], 21 fishes\n",
      "After 17 day(s): [0 1 0 5 6 0 1 2 2 3 0 1 2 2 2 3 3 4 4 5 7 8], 22 fishes\n",
      "After 18 day(s): [6 0 6 4 5 6 0 1 1 2 6 0 1 1 1 2 2 3 3 4 6 7 8 8 8 8], 26 fishes\n"
     ]
    }
   ],
   "source": [
    "simulate(init_small, 18, verbose=True);"
   ]
  },
  {
   "cell_type": "code",
   "execution_count": 44,
   "id": "6b275c1b-8e43-4714-a0f1-44feb521590f",
   "metadata": {
    "execution": {
     "iopub.execute_input": "2021-12-06T10:20:08.913516Z",
     "iopub.status.busy": "2021-12-06T10:20:08.913143Z",
     "iopub.status.idle": "2021-12-06T10:20:08.978218Z",
     "shell.execute_reply": "2021-12-06T10:20:08.976884Z",
     "shell.execute_reply.started": "2021-12-06T10:20:08.913482Z"
    },
    "tags": []
   },
   "outputs": [
    {
     "data": {
      "text/plain": [
       "391888"
      ]
     },
     "execution_count": 44,
     "metadata": {},
     "output_type": "execute_result"
    }
   ],
   "source": [
    "simulate(init_full, 80).size"
   ]
  },
  {
   "cell_type": "code",
   "execution_count": 45,
   "id": "db4f9354-4d9f-4f45-b9c8-d3f2c67dde97",
   "metadata": {
    "execution": {
     "iopub.execute_input": "2021-12-06T10:20:09.256865Z",
     "iopub.status.busy": "2021-12-06T10:20:09.256260Z",
     "iopub.status.idle": "2021-12-06T10:20:09.267407Z",
     "shell.execute_reply": "2021-12-06T10:20:09.265960Z",
     "shell.execute_reply.started": "2021-12-06T10:20:09.256814Z"
    },
    "tags": []
   },
   "outputs": [],
   "source": [
    "def simulate2(init, ndays=10, verbose=False):\n",
    "    t0 = time()\n",
    "    nfishes = np.bincount(init, minlength=9)\n",
    "    if verbose:\n",
    "        print(f'Initial state  : {nfishes}')\n",
    "\n",
    "    for i in range(1, ndays + 1):\n",
    "        new_fishes = nfishes[0]\n",
    "        nfishes[:8] = nfishes[1:]\n",
    "        nfishes[6] += new_fishes\n",
    "        nfishes[8] = new_fishes\n",
    "        if verbose:\n",
    "            print(f'After {i:2d} day(s): {nfishes} {nfishes.sum()} fishes')\n",
    "    return nfishes.sum()"
   ]
  },
  {
   "cell_type": "code",
   "execution_count": 46,
   "id": "5215daa8-c7c8-4b05-aa7b-e5d70b7954d1",
   "metadata": {
    "execution": {
     "iopub.execute_input": "2021-12-06T10:20:09.682080Z",
     "iopub.status.busy": "2021-12-06T10:20:09.681451Z",
     "iopub.status.idle": "2021-12-06T10:20:09.698415Z",
     "shell.execute_reply": "2021-12-06T10:20:09.697273Z",
     "shell.execute_reply.started": "2021-12-06T10:20:09.682022Z"
    },
    "tags": []
   },
   "outputs": [
    {
     "name": "stdout",
     "output_type": "stream",
     "text": [
      "Initial state  : [0 1 1 2 1 0 0 0 0]\n",
      "After  1 day(s): [1 1 2 1 0 0 0 0 0] 5 fishes\n",
      "After  2 day(s): [1 2 1 0 0 0 1 0 1] 6 fishes\n",
      "After  3 day(s): [2 1 0 0 0 1 1 1 1] 7 fishes\n",
      "After  4 day(s): [1 0 0 0 1 1 3 1 2] 9 fishes\n",
      "After  5 day(s): [0 0 0 1 1 3 2 2 1] 10 fishes\n",
      "After  6 day(s): [0 0 1 1 3 2 2 1 0] 10 fishes\n",
      "After  7 day(s): [0 1 1 3 2 2 1 0 0] 10 fishes\n",
      "After  8 day(s): [1 1 3 2 2 1 0 0 0] 10 fishes\n",
      "After  9 day(s): [1 3 2 2 1 0 1 0 1] 11 fishes\n",
      "After 10 day(s): [3 2 2 1 0 1 1 1 1] 12 fishes\n",
      "After 11 day(s): [2 2 1 0 1 1 4 1 3] 15 fishes\n",
      "After 12 day(s): [2 1 0 1 1 4 3 3 2] 17 fishes\n",
      "After 13 day(s): [1 0 1 1 4 3 5 2 2] 19 fishes\n",
      "After 14 day(s): [0 1 1 4 3 5 3 2 1] 20 fishes\n",
      "After 15 day(s): [1 1 4 3 5 3 2 1 0] 20 fishes\n",
      "After 16 day(s): [1 4 3 5 3 2 2 0 1] 21 fishes\n",
      "After 17 day(s): [4 3 5 3 2 2 1 1 1] 22 fishes\n",
      "After 18 day(s): [3 5 3 2 2 1 5 1 4] 26 fishes\n"
     ]
    },
    {
     "data": {
      "text/plain": [
       "26"
      ]
     },
     "execution_count": 46,
     "metadata": {},
     "output_type": "execute_result"
    }
   ],
   "source": [
    "simulate2(init_small, 18, verbose=True)"
   ]
  },
  {
   "cell_type": "code",
   "execution_count": 47,
   "id": "44cd0213-25dc-4825-a395-fdd82376bf4f",
   "metadata": {
    "execution": {
     "iopub.execute_input": "2021-12-06T10:20:13.384361Z",
     "iopub.status.busy": "2021-12-06T10:20:13.383984Z",
     "iopub.status.idle": "2021-12-06T10:20:13.391030Z",
     "shell.execute_reply": "2021-12-06T10:20:13.390315Z",
     "shell.execute_reply.started": "2021-12-06T10:20:13.384326Z"
    },
    "tags": []
   },
   "outputs": [
    {
     "data": {
      "text/plain": [
       "391888"
      ]
     },
     "execution_count": 47,
     "metadata": {},
     "output_type": "execute_result"
    }
   ],
   "source": [
    "simulate2(init_full, 80)"
   ]
  },
  {
   "cell_type": "code",
   "execution_count": 48,
   "id": "ee2b8514-46fa-4f13-b78d-fe7eb69444b1",
   "metadata": {
    "execution": {
     "iopub.execute_input": "2021-12-06T10:20:13.825952Z",
     "iopub.status.busy": "2021-12-06T10:20:13.823484Z",
     "iopub.status.idle": "2021-12-06T10:20:13.847987Z",
     "shell.execute_reply": "2021-12-06T10:20:13.844886Z",
     "shell.execute_reply.started": "2021-12-06T10:20:13.825841Z"
    },
    "tags": []
   },
   "outputs": [
    {
     "data": {
      "text/plain": [
       "1754597645339"
      ]
     },
     "execution_count": 48,
     "metadata": {},
     "output_type": "execute_result"
    }
   ],
   "source": [
    "simulate2(init_full, 256)"
   ]
  },
  {
   "cell_type": "markdown",
   "id": "acb78d1e-da05-42da-bf00-9e483df8e884",
   "metadata": {},
   "source": [
    "# Day 7"
   ]
  },
  {
   "cell_type": "code",
   "execution_count": 11,
   "id": "d021e20b-f1bc-41d9-b8d8-adceb2628840",
   "metadata": {
    "execution": {
     "iopub.execute_input": "2021-12-07T13:58:16.995170Z",
     "iopub.status.busy": "2021-12-07T13:58:16.994758Z",
     "iopub.status.idle": "2021-12-07T13:58:17.000263Z",
     "shell.execute_reply": "2021-12-07T13:58:16.999204Z",
     "shell.execute_reply.started": "2021-12-07T13:58:16.995134Z"
    },
    "tags": []
   },
   "outputs": [],
   "source": [
    "pos = np.sort(np.array([16, 1, 2, 0, 4, 2, 7, 1, 2, 14]))"
   ]
  },
  {
   "cell_type": "code",
   "execution_count": 24,
   "id": "f84313c2-d7de-4324-b231-9aaec8a865d0",
   "metadata": {
    "execution": {
     "iopub.execute_input": "2021-12-07T13:59:17.159057Z",
     "iopub.status.busy": "2021-12-07T13:59:17.158181Z",
     "iopub.status.idle": "2021-12-07T13:59:17.195024Z",
     "shell.execute_reply": "2021-12-07T13:59:17.194004Z",
     "shell.execute_reply.started": "2021-12-07T13:59:17.158966Z"
    },
    "tags": []
   },
   "outputs": [],
   "source": [
    "pos = np.sort(np.genfromtxt('day7.txt', dtype=int, delimiter=','))"
   ]
  },
  {
   "cell_type": "code",
   "execution_count": 25,
   "id": "2d9275b1-652a-4188-b3f4-6e1f683002d6",
   "metadata": {
    "execution": {
     "iopub.execute_input": "2021-12-07T13:59:17.546283Z",
     "iopub.status.busy": "2021-12-07T13:59:17.545731Z",
     "iopub.status.idle": "2021-12-07T13:59:17.562624Z",
     "shell.execute_reply": "2021-12-07T13:59:17.561462Z",
     "shell.execute_reply.started": "2021-12-07T13:59:17.546212Z"
    },
    "tags": []
   },
   "outputs": [
    {
     "data": {
      "text/plain": [
       "355764"
      ]
     },
     "execution_count": 25,
     "metadata": {},
     "output_type": "execute_result"
    }
   ],
   "source": [
    "dist = np.abs(pos[:, None] - pos)\n",
    "dist.sum(axis=0).min()"
   ]
  },
  {
   "cell_type": "code",
   "execution_count": 26,
   "id": "a2f0d018-4e2a-47e6-a8b3-dfad2c812b63",
   "metadata": {
    "execution": {
     "iopub.execute_input": "2021-12-07T13:59:17.783893Z",
     "iopub.status.busy": "2021-12-07T13:59:17.783328Z",
     "iopub.status.idle": "2021-12-07T13:59:17.791700Z",
     "shell.execute_reply": "2021-12-07T13:59:17.791001Z",
     "shell.execute_reply.started": "2021-12-07T13:59:17.783849Z"
    },
    "tags": []
   },
   "outputs": [
    {
     "data": {
      "text/plain": [
       "(339.0, 355764)"
      ]
     },
     "execution_count": 26,
     "metadata": {},
     "output_type": "execute_result"
    }
   ],
   "source": [
    "np.median(pos), np.abs(pos - int(np.median(pos))).sum()"
   ]
  },
  {
   "cell_type": "code",
   "execution_count": 27,
   "id": "c92cd5bd-ad6b-402f-9dd2-091385e62c4d",
   "metadata": {
    "execution": {
     "iopub.execute_input": "2021-12-07T13:59:18.027319Z",
     "iopub.status.busy": "2021-12-07T13:59:18.026581Z",
     "iopub.status.idle": "2021-12-07T13:59:18.058166Z",
     "shell.execute_reply": "2021-12-07T13:59:18.057051Z",
     "shell.execute_reply.started": "2021-12-07T13:59:18.027246Z"
    },
    "tags": []
   },
   "outputs": [
    {
     "name": "stdout",
     "output_type": "stream",
     "text": [
      "CPU times: user 20.7 ms, sys: 3.51 ms, total: 24.2 ms\n",
      "Wall time: 21.6 ms\n"
     ]
    },
    {
     "data": {
      "text/plain": [
       "99634572"
      ]
     },
     "execution_count": 27,
     "metadata": {},
     "output_type": "execute_result"
    }
   ],
   "source": [
    "%%time\n",
    "dist = np.abs(pos[:, None] - np.arange(pos.max() + 1))\n",
    "cost = np.cumsum(np.arange(dist.max()+1))\n",
    "np.sum(cost[dist], axis=0).min()"
   ]
  },
  {
   "cell_type": "markdown",
   "id": "5ef1ba9f-46c5-4044-a101-0400c76aee95",
   "metadata": {},
   "source": [
    "# Day 8"
   ]
  },
  {
   "cell_type": "code",
   "execution_count": 39,
   "id": "85781482-7f2f-419a-86ec-dd5ef80a2417",
   "metadata": {
    "execution": {
     "iopub.execute_input": "2021-12-08T18:40:36.426562Z",
     "iopub.status.busy": "2021-12-08T18:40:36.426190Z",
     "iopub.status.idle": "2021-12-08T18:40:36.431998Z",
     "shell.execute_reply": "2021-12-08T18:40:36.430976Z",
     "shell.execute_reply.started": "2021-12-08T18:40:36.426528Z"
    },
    "tags": []
   },
   "outputs": [],
   "source": [
    "input_small = \"\"\"\\\n",
    "be cfbegad cbdgef fgaecd cgeb fdcge agebfd fecdb fabcd edb | fdgacbe cefdb cefbgd gcbe\n",
    "edbfga begcd cbg gc gcadebf fbgde acbgfd abcde gfcbed gfec | fcgedb cgb dgebacf gc\n",
    "fgaebd cg bdaec gdafb agbcfd gdcbef bgcad gfac gcb cdgabef | cg cg fdcagb cbg\n",
    "fbegcd cbd adcefb dageb afcb bc aefdc ecdab fgdeca fcdbega | efabcd cedba gadfec cb\n",
    "aecbfdg fbg gf bafeg dbefa fcge gcbea fcaegb dgceab fcbdga | gecf egdcabf bgf bfgea\n",
    "fgeab ca afcebg bdacfeg cfaedg gcfdb baec bfadeg bafgc acf | gebdcfa ecba ca fadegcb\n",
    "dbcfg fgd bdegcaf fgec aegbdf ecdfab fbedc dacgb gdcebf gf | cefg dcbef fcge gbcadfe\n",
    "bdfegc cbegaf gecbf dfcage bdacg ed bedf ced adcbefg gebcd | ed bcgafe cdgba cbgef\n",
    "egadfb cdbfeg cegd fecab cgb gbdefca cg fgcdab egfdb bfceg | gbdfcae bgc cg cgb\n",
    "gcafb gcf dcaebfg ecagb gf abcdeg gaef cafbge fdbac fegbdc | fgae cfgab fg bagce\n",
    "\"\"\""
   ]
  },
  {
   "cell_type": "code",
   "execution_count": 40,
   "id": "89985990-35e2-492f-82b1-84f515c975c4",
   "metadata": {
    "execution": {
     "iopub.execute_input": "2021-12-08T18:40:49.844783Z",
     "iopub.status.busy": "2021-12-08T18:40:49.844380Z",
     "iopub.status.idle": "2021-12-08T18:40:49.849542Z",
     "shell.execute_reply": "2021-12-08T18:40:49.848707Z",
     "shell.execute_reply.started": "2021-12-08T18:40:49.844748Z"
    },
    "tags": []
   },
   "outputs": [],
   "source": [
    "input = open('day8.txt').read()"
   ]
  },
  {
   "cell_type": "code",
   "execution_count": 24,
   "id": "b7257f41-459c-4b3f-994d-4618e3c4912e",
   "metadata": {
    "execution": {
     "iopub.execute_input": "2021-12-08T16:23:16.846872Z",
     "iopub.status.busy": "2021-12-08T16:23:16.846450Z",
     "iopub.status.idle": "2021-12-08T16:23:16.852358Z",
     "shell.execute_reply": "2021-12-08T16:23:16.851272Z",
     "shell.execute_reply.started": "2021-12-08T16:23:16.846826Z"
    },
    "tags": []
   },
   "outputs": [],
   "source": [
    "tokens = [line.split(' | ')[1].split() for line in input.splitlines()]"
   ]
  },
  {
   "cell_type": "code",
   "execution_count": 25,
   "id": "d4807276-6008-4451-b0ef-5060e63110e0",
   "metadata": {
    "execution": {
     "iopub.execute_input": "2021-12-08T16:23:17.061339Z",
     "iopub.status.busy": "2021-12-08T16:23:17.060414Z",
     "iopub.status.idle": "2021-12-08T16:23:17.070274Z",
     "shell.execute_reply": "2021-12-08T16:23:17.068722Z",
     "shell.execute_reply.started": "2021-12-08T16:23:17.061253Z"
    },
    "tags": []
   },
   "outputs": [],
   "source": [
    "counts = collections.Counter(len(x) for x in itertools.chain(*tokens))"
   ]
  },
  {
   "cell_type": "code",
   "execution_count": 30,
   "id": "84910594-b6c1-41a8-88bc-f14083a743b7",
   "metadata": {
    "execution": {
     "iopub.execute_input": "2021-12-08T16:45:47.886279Z",
     "iopub.status.busy": "2021-12-08T16:45:47.885899Z",
     "iopub.status.idle": "2021-12-08T16:45:47.893161Z",
     "shell.execute_reply": "2021-12-08T16:45:47.892092Z",
     "shell.execute_reply.started": "2021-12-08T16:45:47.886243Z"
    },
    "tags": []
   },
   "outputs": [
    {
     "data": {
      "text/plain": [
       "26"
      ]
     },
     "execution_count": 30,
     "metadata": {},
     "output_type": "execute_result"
    }
   ],
   "source": [
    "sum(counts[x] for x in [2, 3, 4, 7])"
   ]
  },
  {
   "cell_type": "code",
   "execution_count": null,
   "id": "aab206f8-cd20-4dec-bc4e-bffcdf674187",
   "metadata": {},
   "outputs": [],
   "source": []
  },
  {
   "cell_type": "code",
   "execution_count": 3,
   "id": "931e6a07-61f8-4163-9c9e-3431d0df9cc8",
   "metadata": {
    "execution": {
     "iopub.execute_input": "2021-12-08T18:33:31.005130Z",
     "iopub.status.busy": "2021-12-08T18:33:31.004159Z",
     "iopub.status.idle": "2021-12-08T18:33:31.016063Z",
     "shell.execute_reply": "2021-12-08T18:33:31.012940Z",
     "shell.execute_reply.started": "2021-12-08T18:33:31.005042Z"
    },
    "tags": []
   },
   "outputs": [],
   "source": [
    "# 2 seg: 1\n",
    "# 3    : 7\n",
    "# 4    : 4\n",
    "# 5    : 2, 3, 5\n",
    "# 6    : 0, 6, 9\n",
    "# 7    : 8"
   ]
  },
  {
   "cell_type": "code",
   "execution_count": 4,
   "id": "beef4b72-37d4-4d78-bae0-86c6e22c286a",
   "metadata": {
    "execution": {
     "iopub.execute_input": "2021-12-08T18:33:31.348701Z",
     "iopub.status.busy": "2021-12-08T18:33:31.348134Z",
     "iopub.status.idle": "2021-12-08T18:33:31.356043Z",
     "shell.execute_reply": "2021-12-08T18:33:31.354946Z",
     "shell.execute_reply.started": "2021-12-08T18:33:31.348638Z"
    },
    "tags": []
   },
   "outputs": [],
   "source": [
    "num2nseg = {1: 2, 4: 4, 7: 3, 8: 7}\n",
    "nseg2num = {v:k for k, v in num2nseg.items()}"
   ]
  },
  {
   "cell_type": "code",
   "execution_count": 35,
   "id": "f252870f-4619-4883-a089-d03d5866d76b",
   "metadata": {
    "execution": {
     "iopub.execute_input": "2021-12-08T18:40:01.350970Z",
     "iopub.status.busy": "2021-12-08T18:40:01.350587Z",
     "iopub.status.idle": "2021-12-08T18:40:01.362241Z",
     "shell.execute_reply": "2021-12-08T18:40:01.361319Z",
     "shell.execute_reply.started": "2021-12-08T18:40:01.350934Z"
    },
    "tags": []
   },
   "outputs": [],
   "source": [
    "def parse(line):\n",
    "    signal, digits = line.split(' | ')\n",
    "    signal = [set(x) for x in signal.split(' ')]\n",
    "\n",
    "    values = {}\n",
    "    for token in signal:\n",
    "        try:\n",
    "            values[nseg2num[len(token)]] = set(token)\n",
    "        except:\n",
    "            pass\n",
    "\n",
    "    for token in signal:\n",
    "        if len(diff := values[8] - token) == 1:\n",
    "            if diff & values[1]:\n",
    "                values[6] = token\n",
    "            elif diff & (values[4] - values[1]):\n",
    "                values[0] = token\n",
    "            else:\n",
    "                values[9] = token\n",
    "\n",
    "    seg_bottom_left = (values[8] - values[9]).pop()\n",
    "\n",
    "    for token in signal:\n",
    "        if len(token) == 5:\n",
    "            if values[1].issubset(token):\n",
    "                values[3] = token\n",
    "            elif seg_bottom_left in token:\n",
    "                values[2] = token\n",
    "            else:\n",
    "                values[5] = token\n",
    "\n",
    "    trans = {frozenset(v): k for k, v in values.items()}\n",
    "    res = [trans[frozenset(k)] for k in digits.split()]\n",
    "    return sum(d * 10**i for i, d in enumerate(reversed(res)))"
   ]
  },
  {
   "cell_type": "code",
   "execution_count": 41,
   "id": "9b41a7c1-5248-4ac2-b282-97252b5610cb",
   "metadata": {
    "execution": {
     "iopub.execute_input": "2021-12-08T18:40:55.805398Z",
     "iopub.status.busy": "2021-12-08T18:40:55.804358Z",
     "iopub.status.idle": "2021-12-08T18:40:55.811070Z",
     "shell.execute_reply": "2021-12-08T18:40:55.810064Z",
     "shell.execute_reply.started": "2021-12-08T18:40:55.805309Z"
    },
    "tags": []
   },
   "outputs": [],
   "source": [
    "input_test = 'acedgfb cdfbe gcdfa fbcad dab cefabd cdfgeb eafb cagedb ab | cdfeb fcadb cdfeb cdbaf'"
   ]
  },
  {
   "cell_type": "code",
   "execution_count": 42,
   "id": "91675a3e-d255-455e-aa09-d6862ebc5fa6",
   "metadata": {
    "execution": {
     "iopub.execute_input": "2021-12-08T18:40:59.096311Z",
     "iopub.status.busy": "2021-12-08T18:40:59.095663Z",
     "iopub.status.idle": "2021-12-08T18:40:59.104490Z",
     "shell.execute_reply": "2021-12-08T18:40:59.103467Z",
     "shell.execute_reply.started": "2021-12-08T18:40:59.096239Z"
    },
    "tags": []
   },
   "outputs": [
    {
     "data": {
      "text/plain": [
       "5353"
      ]
     },
     "execution_count": 42,
     "metadata": {},
     "output_type": "execute_result"
    }
   ],
   "source": [
    "parse(input_test)"
   ]
  },
  {
   "cell_type": "code",
   "execution_count": 47,
   "id": "b5ed9409-034a-472d-b39d-1e777f24e1b9",
   "metadata": {
    "execution": {
     "iopub.execute_input": "2021-12-08T18:42:13.109973Z",
     "iopub.status.busy": "2021-12-08T18:42:13.109595Z",
     "iopub.status.idle": "2021-12-08T18:42:13.116426Z",
     "shell.execute_reply": "2021-12-08T18:42:13.115707Z",
     "shell.execute_reply.started": "2021-12-08T18:42:13.109940Z"
    },
    "tags": []
   },
   "outputs": [
    {
     "data": {
      "text/plain": [
       "61229"
      ]
     },
     "execution_count": 47,
     "metadata": {},
     "output_type": "execute_result"
    }
   ],
   "source": [
    "sum(parse(line) for line in input_small.splitlines())"
   ]
  },
  {
   "cell_type": "code",
   "execution_count": 48,
   "id": "c99c38fd-6fa9-418e-a4dd-b9c0ccf1a786",
   "metadata": {
    "execution": {
     "iopub.execute_input": "2021-12-08T18:42:29.567206Z",
     "iopub.status.busy": "2021-12-08T18:42:29.565424Z",
     "iopub.status.idle": "2021-12-08T18:42:29.577636Z",
     "shell.execute_reply": "2021-12-08T18:42:29.575395Z",
     "shell.execute_reply.started": "2021-12-08T18:42:29.567087Z"
    },
    "tags": []
   },
   "outputs": [],
   "source": [
    "input = open('day8.txt').read()"
   ]
  },
  {
   "cell_type": "code",
   "execution_count": 49,
   "id": "74e48bbc-bc9a-4ed7-9b82-6c4392fe294a",
   "metadata": {
    "execution": {
     "iopub.execute_input": "2021-12-08T18:42:35.960068Z",
     "iopub.status.busy": "2021-12-08T18:42:35.959480Z",
     "iopub.status.idle": "2021-12-08T18:42:35.977280Z",
     "shell.execute_reply": "2021-12-08T18:42:35.976312Z",
     "shell.execute_reply.started": "2021-12-08T18:42:35.960010Z"
    },
    "tags": []
   },
   "outputs": [
    {
     "data": {
      "text/plain": [
       "1096964"
      ]
     },
     "execution_count": 49,
     "metadata": {},
     "output_type": "execute_result"
    }
   ],
   "source": [
    "sum(parse(line) for line in input.splitlines())"
   ]
  },
  {
   "cell_type": "markdown",
   "id": "5c7a79bc-a6a9-44d7-9716-d0989b15b2fe",
   "metadata": {},
   "source": [
    "# Day 9"
   ]
  },
  {
   "cell_type": "code",
   "execution_count": 2,
   "id": "9406f7fc-443d-47b8-bdb0-a10d9ca3d8f2",
   "metadata": {
    "execution": {
     "iopub.execute_input": "2021-12-09T13:39:58.643251Z",
     "iopub.status.busy": "2021-12-09T13:39:58.642802Z",
     "iopub.status.idle": "2021-12-09T13:39:58.648216Z",
     "shell.execute_reply": "2021-12-09T13:39:58.647402Z",
     "shell.execute_reply.started": "2021-12-09T13:39:58.643209Z"
    },
    "tags": []
   },
   "outputs": [],
   "source": [
    "input = \"\"\"\\\n",
    "2199943210\n",
    "3987894921\n",
    "9856789892\n",
    "8767896789\n",
    "9899965678\n",
    "\"\"\""
   ]
  },
  {
   "cell_type": "code",
   "execution_count": 3,
   "id": "a6b2aac1-b7c4-4e32-abff-32543be2670e",
   "metadata": {
    "execution": {
     "iopub.execute_input": "2021-12-09T13:39:58.876950Z",
     "iopub.status.busy": "2021-12-09T13:39:58.876578Z",
     "iopub.status.idle": "2021-12-09T13:39:58.882329Z",
     "shell.execute_reply": "2021-12-09T13:39:58.881415Z",
     "shell.execute_reply.started": "2021-12-09T13:39:58.876914Z"
    },
    "tags": []
   },
   "outputs": [],
   "source": [
    "input = open('day9.txt').read()"
   ]
  },
  {
   "cell_type": "code",
   "execution_count": 4,
   "id": "ffee2a9c-d1eb-4c36-a391-7d596e6a2461",
   "metadata": {
    "execution": {
     "iopub.execute_input": "2021-12-09T13:39:59.206927Z",
     "iopub.status.busy": "2021-12-09T13:39:59.206491Z",
     "iopub.status.idle": "2021-12-09T13:39:59.229656Z",
     "shell.execute_reply": "2021-12-09T13:39:59.228604Z",
     "shell.execute_reply.started": "2021-12-09T13:39:59.206883Z"
    },
    "tags": []
   },
   "outputs": [],
   "source": [
    "hmap = np.genfromtxt(input.splitlines(), delimiter=1, dtype=int)"
   ]
  },
  {
   "cell_type": "code",
   "execution_count": 5,
   "id": "88c9a162-b4c7-4cd0-a8f2-b1fe821f11c2",
   "metadata": {
    "execution": {
     "iopub.execute_input": "2021-12-09T13:39:59.659926Z",
     "iopub.status.busy": "2021-12-09T13:39:59.659545Z",
     "iopub.status.idle": "2021-12-09T13:40:00.012559Z",
     "shell.execute_reply": "2021-12-09T13:40:00.011731Z",
     "shell.execute_reply.started": "2021-12-09T13:39:59.659890Z"
    },
    "tags": []
   },
   "outputs": [
    {
     "data": {
      "image/png": "[encoded data removed]",
      "text/plain": [
       "<Figure size 432x288 with 1 Axes>"
      ]
     },
     "metadata": {
      "needs_background": "light"
     },
     "output_type": "display_data"
    }
   ],
   "source": [
    "plt.imshow(hmap);"
   ]
  },
  {
   "cell_type": "code",
   "execution_count": 6,
   "id": "9bbddbb1-0d37-4fb9-b26d-2ed64648e588",
   "metadata": {
    "execution": {
     "iopub.execute_input": "2021-12-09T13:40:07.955875Z",
     "iopub.status.busy": "2021-12-09T13:40:07.955473Z",
     "iopub.status.idle": "2021-12-09T13:40:07.960784Z",
     "shell.execute_reply": "2021-12-09T13:40:07.959840Z",
     "shell.execute_reply.started": "2021-12-09T13:40:07.955839Z"
    },
    "tags": []
   },
   "outputs": [],
   "source": [
    "minmap = ndi.minimum_filter(hmap, size=3) == hmap"
   ]
  },
  {
   "cell_type": "code",
   "execution_count": 7,
   "id": "f814e3c7-731c-4751-8a33-f76e624da430",
   "metadata": {
    "execution": {
     "iopub.execute_input": "2021-12-09T13:40:09.082181Z",
     "iopub.status.busy": "2021-12-09T13:40:09.081798Z",
     "iopub.status.idle": "2021-12-09T13:40:09.085914Z",
     "shell.execute_reply": "2021-12-09T13:40:09.084950Z",
     "shell.execute_reply.started": "2021-12-09T13:40:09.082145Z"
    },
    "tags": []
   },
   "outputs": [],
   "source": [
    "#plt.imshow(hmap)\n",
    "#plt.imshow(np.ma.masked_equal(minmap, 0), cmap='Reds', vmin=0, vmax=1);"
   ]
  },
  {
   "cell_type": "code",
   "execution_count": 8,
   "id": "e993bf11-6649-4788-879d-7bd8c7ab1b78",
   "metadata": {
    "execution": {
     "iopub.execute_input": "2021-12-09T13:40:09.312484Z",
     "iopub.status.busy": "2021-12-09T13:40:09.311813Z",
     "iopub.status.idle": "2021-12-09T13:40:09.322605Z",
     "shell.execute_reply": "2021-12-09T13:40:09.321564Z",
     "shell.execute_reply.started": "2021-12-09T13:40:09.312401Z"
    },
    "tags": []
   },
   "outputs": [
    {
     "data": {
      "text/plain": [
       "504"
      ]
     },
     "execution_count": 8,
     "metadata": {},
     "output_type": "execute_result"
    }
   ],
   "source": [
    "np.sum(hmap[minmap] + 1)"
   ]
  },
  {
   "cell_type": "code",
   "execution_count": 9,
   "id": "3dcbc170-778c-4e2b-bd70-0e8d6b6704ab",
   "metadata": {
    "execution": {
     "iopub.execute_input": "2021-12-09T13:40:16.031744Z",
     "iopub.status.busy": "2021-12-09T13:40:16.031372Z",
     "iopub.status.idle": "2021-12-09T13:40:16.036401Z",
     "shell.execute_reply": "2021-12-09T13:40:16.035614Z",
     "shell.execute_reply.started": "2021-12-09T13:40:16.031710Z"
    },
    "tags": []
   },
   "outputs": [],
   "source": [
    "labels, nlabels = ndi.label(hmap < 9)"
   ]
  },
  {
   "cell_type": "code",
   "execution_count": 10,
   "id": "a9174f3b-c2fc-4f51-8356-59f1ee4256c7",
   "metadata": {
    "execution": {
     "iopub.execute_input": "2021-12-09T13:40:17.541325Z",
     "iopub.status.busy": "2021-12-09T13:40:17.540613Z",
     "iopub.status.idle": "2021-12-09T13:40:17.793425Z",
     "shell.execute_reply": "2021-12-09T13:40:17.792569Z",
     "shell.execute_reply.started": "2021-12-09T13:40:17.541281Z"
    },
    "tags": []
   },
   "outputs": [
    {
     "data": {
      "image/png": "[encoded data removed]",
      "text/plain": [
       "<Figure size 432x288 with 1 Axes>"
      ]
     },
     "metadata": {
      "needs_background": "light"
     },
     "output_type": "display_data"
    }
   ],
   "source": [
    "plt.imshow(labels);"
   ]
  },
  {
   "cell_type": "code",
   "execution_count": 11,
   "id": "cfaa366b-194c-4881-ab3f-f0d213b32c58",
   "metadata": {
    "execution": {
     "iopub.execute_input": "2021-12-09T13:40:18.427848Z",
     "iopub.status.busy": "2021-12-09T13:40:18.427466Z",
     "iopub.status.idle": "2021-12-09T13:40:18.436318Z",
     "shell.execute_reply": "2021-12-09T13:40:18.435331Z",
     "shell.execute_reply.started": "2021-12-09T13:40:18.427814Z"
    },
    "tags": []
   },
   "outputs": [],
   "source": [
    "areas = ndi.labeled_comprehension(np.ones_like(hmap, dtype=int), labels,\n",
    "                                  np.arange(1, nlabels + 1), np.sum, int, 0)"
   ]
  },
  {
   "cell_type": "code",
   "execution_count": 12,
   "id": "598f435b-4c79-4d29-8f32-f21427ddfd0f",
   "metadata": {
    "execution": {
     "iopub.execute_input": "2021-12-09T13:40:19.959595Z",
     "iopub.status.busy": "2021-12-09T13:40:19.959005Z",
     "iopub.status.idle": "2021-12-09T13:40:19.968483Z",
     "shell.execute_reply": "2021-12-09T13:40:19.967308Z",
     "shell.execute_reply.started": "2021-12-09T13:40:19.959538Z"
    },
    "tags": []
   },
   "outputs": [
    {
     "data": {
      "text/plain": [
       "1558722"
      ]
     },
     "execution_count": 12,
     "metadata": {},
     "output_type": "execute_result"
    }
   ],
   "source": [
    "np.prod(np.sort(areas)[-3:])"
   ]
  },
  {
   "cell_type": "code",
   "execution_count": null,
   "id": "35d62438-690d-424f-a979-454ca3d975ef",
   "metadata": {},
   "outputs": [],
   "source": []
  }
 ],
 "metadata": {
  "kernelspec": {
   "display_name": "Python 3 (ipykernel)",
   "language": "python",
   "name": "python3"
  },
  "language_info": {
   "codemirror_mode": {
    "name": "ipython",
    "version": 3
   },
   "file_extension": ".py",
   "mimetype": "text/x-python",
   "name": "python",
   "nbconvert_exporter": "python",
   "pygments_lexer": "ipython3",
   "version": "3.9.4"
  },
  "toc-showcode": false,
  "toc-showmarkdowntxt": false,
  "toc-showtags": false
 },
 "nbformat": 4,
 "nbformat_minor": 5
}
