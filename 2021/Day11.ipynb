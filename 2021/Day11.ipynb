{
 "cells": [
  {
   "cell_type": "code",
   "execution_count": 1,
   "id": "8dbae41b-ad17-4400-962c-715a8a198967",
   "metadata": {},
   "outputs": [],
   "source": [
    "import itertools\n",
    "import numpy as np\n",
    "import scipy.ndimage as ndi"
   ]
  },
  {
   "cell_type": "code",
   "execution_count": 2,
   "id": "fa42beb3-464a-4a5c-917e-399d61c007df",
   "metadata": {},
   "outputs": [],
   "source": [
    "input = \"\"\"\\\n",
    "5483143223\n",
    "2745854711\n",
    "5264556173\n",
    "6141336146\n",
    "6357385478\n",
    "4167524645\n",
    "2176841721\n",
    "6882881134\n",
    "4846848554\n",
    "5283751526\n",
    "\"\"\""
   ]
  },
  {
   "cell_type": "code",
   "execution_count": 3,
   "id": "48cb086e-33e0-491d-8cfc-f8aebfb719a0",
   "metadata": {},
   "outputs": [],
   "source": [
    "input = \"\"\"\\\n",
    "4738615556\n",
    "6744423741\n",
    "2812868827\n",
    "8844365624\n",
    "4546674266\n",
    "4518674278\n",
    "7457237431\n",
    "4524873247\n",
    "3153341314\n",
    "3721414667\n",
    "\"\"\""
   ]
  },
  {
   "cell_type": "code",
   "execution_count": 4,
   "id": "040c484e-7d47-4181-946a-ed0e505ec7d3",
   "metadata": {},
   "outputs": [],
   "source": [
    "energy = np.genfromtxt(input.splitlines(), delimiter=1, dtype=int)\n",
    "kernel = np.ones((3, 3), dtype=int)"
   ]
  },
  {
   "cell_type": "code",
   "execution_count": 5,
   "id": "dfaaddec-f2e0-4873-a0ad-6960a299c89c",
   "metadata": {},
   "outputs": [
    {
     "name": "stdout",
     "output_type": "stream",
     "text": [
      "1615\n",
      "CPU times: user 56.7 ms, sys: 2.7 ms, total: 59.4 ms\n",
      "Wall time: 59.8 ms\n"
     ]
    }
   ],
   "source": [
    "%%time\n",
    "sum_flash = 0\n",
    "\n",
    "for step in range(100):\n",
    "    energy += 1\n",
    "    flash = energy > 9\n",
    "    all_flash = flash\n",
    "\n",
    "    while np.any(flash):\n",
    "        energy += ndi.convolve(flash.astype(int),\n",
    "                               kernel,\n",
    "                               mode='constant',\n",
    "                               cval=0).astype(int)\n",
    "        energy[flash] = 0\n",
    "        flash = energy > 9\n",
    "        all_flash |= flash\n",
    "        \n",
    "    energy[all_flash] = 0\n",
    "    sum_flash += np.count_nonzero(all_flash)\n",
    "\n",
    "print(sum_flash)"
   ]
  },
  {
   "cell_type": "code",
   "execution_count": 6,
   "id": "3b83ecda-dfe3-4cea-970d-84eebc00f582",
   "metadata": {},
   "outputs": [],
   "source": [
    "energy = np.genfromtxt(input.splitlines(), delimiter=1, dtype=int)\n",
    "kernel = np.ones((3, 3), dtype=int)"
   ]
  },
  {
   "cell_type": "code",
   "execution_count": 7,
   "id": "c8487073-b5dc-4042-8eb3-338c5ae4d46e",
   "metadata": {},
   "outputs": [
    {
     "name": "stdout",
     "output_type": "stream",
     "text": [
      "found! step 249\n",
      "CPU times: user 109 ms, sys: 2.38 ms, total: 111 ms\n",
      "Wall time: 113 ms\n"
     ]
    }
   ],
   "source": [
    "%%time\n",
    "\n",
    "for step in itertools.count():\n",
    "    energy += 1\n",
    "    flash = energy > 9\n",
    "    all_flash = flash\n",
    "\n",
    "    while np.any(flash):\n",
    "        energy += ndi.convolve(flash.astype(int),\n",
    "                               kernel,\n",
    "                               mode='constant',\n",
    "                               cval=0).astype(int)\n",
    "        energy[flash] = 0\n",
    "        flash = energy > 9\n",
    "        all_flash |= flash\n",
    "\n",
    "    energy[all_flash] = 0\n",
    "    if np.all(energy == 0):\n",
    "        print(f'found! step {step + 1}')\n",
    "        break"
   ]
  },
  {
   "cell_type": "code",
   "execution_count": null,
   "id": "a39e464d-3319-498c-bf10-b43bc3b00531",
   "metadata": {},
   "outputs": [],
   "source": []
  }
 ],
 "metadata": {
  "kernelspec": {
   "display_name": "Python 3 (ipykernel)",
   "language": "python",
   "name": "python3"
  },
  "language_info": {
   "codemirror_mode": {
    "name": "ipython",
    "version": 3
   },
   "file_extension": ".py",
   "mimetype": "text/x-python",
   "name": "python",
   "nbconvert_exporter": "python",
   "pygments_lexer": "ipython3",
   "version": "3.9.8"
  }
 },
 "nbformat": 4,
 "nbformat_minor": 5
}
