{
 "cells": [
  {
   "cell_type": "code",
   "execution_count": 1,
   "id": "2df0890c-1d0b-4ff1-a4e8-56571d7771ca",
   "metadata": {},
   "outputs": [],
   "source": [
    "import numpy as np\n",
    "import time"
   ]
  },
  {
   "cell_type": "code",
   "execution_count": 2,
   "id": "0e5cb22e-45db-4578-910d-a2ce9da01dba",
   "metadata": {},
   "outputs": [],
   "source": [
    "input = \"\"\"\\\n",
    "7,4,9,5,11,17,23,2,0,14,21,24,10,16,13,6,15,25,12,22,18,20,8,19,3,26,1\n",
    "\n",
    "22 13 17 11  0\n",
    " 8  2 23  4 24\n",
    "21  9 14 16  7\n",
    " 6 10  3 18  5\n",
    " 1 12 20 15 19\n",
    "\n",
    " 3 15  0  2 22\n",
    " 9 18 13 17  5\n",
    "19  8  7 25 23\n",
    "20 11 10 24  4\n",
    "14 21 16 12  6\n",
    "\n",
    "14 21 17 24  4\n",
    "10 16 15  9 19\n",
    "18  8 23 26 20\n",
    "22 11 13  6  5\n",
    " 2  0 12  3  7\n",
    "\"\"\""
   ]
  },
  {
   "cell_type": "code",
   "execution_count": 3,
   "id": "10879969-39e6-4378-80c8-e4af776885bb",
   "metadata": {},
   "outputs": [],
   "source": [
    "input = open('day4.txt').read()"
   ]
  },
  {
   "cell_type": "code",
   "execution_count": 4,
   "id": "c7c2166a-a368-43ec-abd6-eaf5cbe78dc2",
   "metadata": {},
   "outputs": [],
   "source": [
    "lines = input.splitlines()\n",
    "\n",
    "numbers = [int(x) for x in lines[0].split(',')]\n",
    "lines = lines[1:]\n",
    "\n",
    "boards = []\n",
    "while len(lines) > 5:\n",
    "    lines = lines[1:]\n",
    "    board = lines[:5]\n",
    "    lines = lines[5:]\n",
    "    boards.append(np.genfromtxt(board, dtype=int))\n",
    "\n",
    "boards = np.stack(boards)"
   ]
  },
  {
   "cell_type": "code",
   "execution_count": 5,
   "id": "a25d4707-55dc-4a38-b059-09ba2bf33119",
   "metadata": {},
   "outputs": [
    {
     "name": "stdout",
     "output_type": "stream",
     "text": [
      "0.028112173080444336\n"
     ]
    }
   ],
   "source": [
    "t0 = time.time()\n",
    "found = np.zeros_like(boards, dtype=bool)\n",
    "winners = []\n",
    "\n",
    "for number in numbers:\n",
    "    found |= boards == number\n",
    "    full_row_col = np.concatenate([np.logical_and.reduce(found, axis=1),\n",
    "                                   np.logical_and.reduce(found, axis=2)], axis=1)\n",
    "    winner = np.logical_or.reduce(full_row_col, axis=1)\n",
    "    if np.any(winner):\n",
    "        for i in np.where(winner)[0]:\n",
    "            if i in winners:\n",
    "                continue\n",
    "            score = np.sum(boards[i] * ~found[i]) * number\n",
    "            #print(f'-> board {i} win: {score}')\n",
    "            winners.append(i)\n",
    "print(time.time() - t0)"
   ]
  },
  {
   "cell_type": "code",
   "execution_count": 6,
   "id": "48caf557-d31c-4c48-a227-f447f182e2f8",
   "metadata": {},
   "outputs": [
    {
     "data": {
      "text/plain": [
       "26936"
      ]
     },
     "execution_count": 6,
     "metadata": {},
     "output_type": "execute_result"
    }
   ],
   "source": [
    "score"
   ]
  },
  {
   "cell_type": "code",
   "execution_count": null,
   "id": "705c0d44-b9ce-407e-b6df-2cb9943f903b",
   "metadata": {},
   "outputs": [],
   "source": []
  }
 ],
 "metadata": {
  "kernelspec": {
   "display_name": "Python 3 (ipykernel)",
   "language": "python",
   "name": "python3"
  },
  "language_info": {
   "codemirror_mode": {
    "name": "ipython",
    "version": 3
   },
   "file_extension": ".py",
   "mimetype": "text/x-python",
   "name": "python",
   "nbconvert_exporter": "python",
   "pygments_lexer": "ipython3",
   "version": "3.9.8"
  }
 },
 "nbformat": 4,
 "nbformat_minor": 5
}
